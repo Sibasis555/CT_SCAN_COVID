{
  "nbformat": 4,
  "nbformat_minor": 0,
  "metadata": {
    "colab": {
      "name": "Pytorch_COVID_19 (1).ipynb",
      "provenance": [],
      "collapsed_sections": [],
      "toc_visible": true
    },
    "kernelspec": {
      "name": "python3",
      "display_name": "Python 3"
    },
    "accelerator": "GPU",
    "widgets": {
      "application/vnd.jupyter.widget-state+json": {
        "dbaa76f12fda4a7196b5ecc4f87b446a": {
          "model_module": "@jupyter-widgets/controls",
          "model_name": "HBoxModel",
          "state": {
            "_view_name": "HBoxView",
            "_dom_classes": [],
            "_model_name": "HBoxModel",
            "_view_module": "@jupyter-widgets/controls",
            "_model_module_version": "1.5.0",
            "_view_count": null,
            "_view_module_version": "1.5.0",
            "box_style": "",
            "layout": "IPY_MODEL_75ea6fb5609e43e98a714fab9f268e2e",
            "_model_module": "@jupyter-widgets/controls",
            "children": [
              "IPY_MODEL_37280c750ba94f66896f744cb24c42a0",
              "IPY_MODEL_be5752a765fb4572a5fee6466ea1810d"
            ]
          }
        },
        "75ea6fb5609e43e98a714fab9f268e2e": {
          "model_module": "@jupyter-widgets/base",
          "model_name": "LayoutModel",
          "state": {
            "_view_name": "LayoutView",
            "grid_template_rows": null,
            "right": null,
            "justify_content": null,
            "_view_module": "@jupyter-widgets/base",
            "overflow": null,
            "_model_module_version": "1.2.0",
            "_view_count": null,
            "flex_flow": null,
            "width": null,
            "min_width": null,
            "border": null,
            "align_items": null,
            "bottom": null,
            "_model_module": "@jupyter-widgets/base",
            "top": null,
            "grid_column": null,
            "overflow_y": null,
            "overflow_x": null,
            "grid_auto_flow": null,
            "grid_area": null,
            "grid_template_columns": null,
            "flex": null,
            "_model_name": "LayoutModel",
            "justify_items": null,
            "grid_row": null,
            "max_height": null,
            "align_content": null,
            "visibility": null,
            "align_self": null,
            "height": null,
            "min_height": null,
            "padding": null,
            "grid_auto_rows": null,
            "grid_gap": null,
            "max_width": null,
            "order": null,
            "_view_module_version": "1.2.0",
            "grid_template_areas": null,
            "object_position": null,
            "object_fit": null,
            "grid_auto_columns": null,
            "margin": null,
            "display": null,
            "left": null
          }
        },
        "37280c750ba94f66896f744cb24c42a0": {
          "model_module": "@jupyter-widgets/controls",
          "model_name": "FloatProgressModel",
          "state": {
            "_view_name": "ProgressView",
            "style": "IPY_MODEL_b5e12f3a04cb4fd7add71d71e3958a7e",
            "_dom_classes": [],
            "description": "100%",
            "_model_name": "FloatProgressModel",
            "bar_style": "success",
            "max": 574673361,
            "_view_module": "@jupyter-widgets/controls",
            "_model_module_version": "1.5.0",
            "value": 574673361,
            "_view_count": null,
            "_view_module_version": "1.5.0",
            "orientation": "horizontal",
            "min": 0,
            "description_tooltip": null,
            "_model_module": "@jupyter-widgets/controls",
            "layout": "IPY_MODEL_14f4cf60e0b64e1cb751bef0f261fb3d"
          }
        },
        "be5752a765fb4572a5fee6466ea1810d": {
          "model_module": "@jupyter-widgets/controls",
          "model_name": "HTMLModel",
          "state": {
            "_view_name": "HTMLView",
            "style": "IPY_MODEL_f582389754b642e6a00274ec0513a965",
            "_dom_classes": [],
            "description": "",
            "_model_name": "HTMLModel",
            "placeholder": "​",
            "_view_module": "@jupyter-widgets/controls",
            "_model_module_version": "1.5.0",
            "value": " 548M/548M [13:31&lt;00:00, 708kB/s]",
            "_view_count": null,
            "_view_module_version": "1.5.0",
            "description_tooltip": null,
            "_model_module": "@jupyter-widgets/controls",
            "layout": "IPY_MODEL_bb824d81dc784bafa53d72bf5e4be21b"
          }
        },
        "b5e12f3a04cb4fd7add71d71e3958a7e": {
          "model_module": "@jupyter-widgets/controls",
          "model_name": "ProgressStyleModel",
          "state": {
            "_view_name": "StyleView",
            "_model_name": "ProgressStyleModel",
            "description_width": "initial",
            "_view_module": "@jupyter-widgets/base",
            "_model_module_version": "1.5.0",
            "_view_count": null,
            "_view_module_version": "1.2.0",
            "bar_color": null,
            "_model_module": "@jupyter-widgets/controls"
          }
        },
        "14f4cf60e0b64e1cb751bef0f261fb3d": {
          "model_module": "@jupyter-widgets/base",
          "model_name": "LayoutModel",
          "state": {
            "_view_name": "LayoutView",
            "grid_template_rows": null,
            "right": null,
            "justify_content": null,
            "_view_module": "@jupyter-widgets/base",
            "overflow": null,
            "_model_module_version": "1.2.0",
            "_view_count": null,
            "flex_flow": null,
            "width": null,
            "min_width": null,
            "border": null,
            "align_items": null,
            "bottom": null,
            "_model_module": "@jupyter-widgets/base",
            "top": null,
            "grid_column": null,
            "overflow_y": null,
            "overflow_x": null,
            "grid_auto_flow": null,
            "grid_area": null,
            "grid_template_columns": null,
            "flex": null,
            "_model_name": "LayoutModel",
            "justify_items": null,
            "grid_row": null,
            "max_height": null,
            "align_content": null,
            "visibility": null,
            "align_self": null,
            "height": null,
            "min_height": null,
            "padding": null,
            "grid_auto_rows": null,
            "grid_gap": null,
            "max_width": null,
            "order": null,
            "_view_module_version": "1.2.0",
            "grid_template_areas": null,
            "object_position": null,
            "object_fit": null,
            "grid_auto_columns": null,
            "margin": null,
            "display": null,
            "left": null
          }
        },
        "f582389754b642e6a00274ec0513a965": {
          "model_module": "@jupyter-widgets/controls",
          "model_name": "DescriptionStyleModel",
          "state": {
            "_view_name": "StyleView",
            "_model_name": "DescriptionStyleModel",
            "description_width": "",
            "_view_module": "@jupyter-widgets/base",
            "_model_module_version": "1.5.0",
            "_view_count": null,
            "_view_module_version": "1.2.0",
            "_model_module": "@jupyter-widgets/controls"
          }
        },
        "bb824d81dc784bafa53d72bf5e4be21b": {
          "model_module": "@jupyter-widgets/base",
          "model_name": "LayoutModel",
          "state": {
            "_view_name": "LayoutView",
            "grid_template_rows": null,
            "right": null,
            "justify_content": null,
            "_view_module": "@jupyter-widgets/base",
            "overflow": null,
            "_model_module_version": "1.2.0",
            "_view_count": null,
            "flex_flow": null,
            "width": null,
            "min_width": null,
            "border": null,
            "align_items": null,
            "bottom": null,
            "_model_module": "@jupyter-widgets/base",
            "top": null,
            "grid_column": null,
            "overflow_y": null,
            "overflow_x": null,
            "grid_auto_flow": null,
            "grid_area": null,
            "grid_template_columns": null,
            "flex": null,
            "_model_name": "LayoutModel",
            "justify_items": null,
            "grid_row": null,
            "max_height": null,
            "align_content": null,
            "visibility": null,
            "align_self": null,
            "height": null,
            "min_height": null,
            "padding": null,
            "grid_auto_rows": null,
            "grid_gap": null,
            "max_width": null,
            "order": null,
            "_view_module_version": "1.2.0",
            "grid_template_areas": null,
            "object_position": null,
            "object_fit": null,
            "grid_auto_columns": null,
            "margin": null,
            "display": null,
            "left": null
          }
        }
      }
    }
  },
  "cells": [
    {
      "cell_type": "code",
      "metadata": {
        "id": "zj6kNWJzzQTA"
      },
      "source": [
        "import torch\n",
        "import torch.nn as nn\n",
        "import torch.nn.functional as F\n",
        "from torch.utils.data import DataLoader\n",
        "from torchvision import datasets, transforms,models\n",
        "import shutil\n",
        "import numpy as np\n",
        "import pandas as pd\n",
        "import matplotlib.pyplot as plt\n",
        "%matplotlib inline\n",
        "import os\n",
        "import random\n",
        "from PIL import Image\n",
        "import seaborn as sns\n",
        "from IPython.display import display\n",
        "import warnings\n",
        "warnings.filterwarnings('ignore') "
      ],
      "execution_count": 1,
      "outputs": []
    },
    {
      "cell_type": "code",
      "metadata": {
        "id": "at-vsGcSzm6K",
        "outputId": "ffcfa9c3-88e1-40f0-8f3d-db9ce1271baf",
        "colab": {
          "base_uri": "https://localhost:8080/",
          "height": 118
        }
      },
      "source": [
        "!git clone https://github.com/Sibasis555/CT_SCAN_COVID.git"
      ],
      "execution_count": 2,
      "outputs": [
        {
          "output_type": "stream",
          "text": [
            "Cloning into 'CT_SCAN_COVID'...\n",
            "remote: Enumerating objects: 7, done.\u001b[K\n",
            "remote: Counting objects: 100% (7/7), done.\u001b[K\n",
            "remote: Compressing objects: 100% (6/6), done.\u001b[K\n",
            "remote: Total 7 (delta 0), reused 4 (delta 0), pack-reused 0\u001b[K\n",
            "Unpacking objects: 100% (7/7), done.\n"
          ],
          "name": "stdout"
        }
      ]
    },
    {
      "cell_type": "code",
      "metadata": {
        "id": "y95uYyx0zsTa",
        "outputId": "1aa9e643-a58c-4c8e-8018-f64dfff1170c",
        "colab": {
          "base_uri": "https://localhost:8080/",
          "height": 50
        }
      },
      "source": [
        "from zipfile import ZipFile\n",
        "file_name='/content/CT_SCAN_COVID/CT_COVID.zip'\n",
        "with ZipFile(file_name, 'r') as zip: \n",
        "    # printing all the contents of the zip file \n",
        "    zip.extractall('photos')\n",
        "    print('done') \n",
        "\n",
        "from zipfile import ZipFile\n",
        "file_name='/content/CT_SCAN_COVID/CT_NonCOVID.zip'\n",
        "with ZipFile(file_name, 'r') as zip: \n",
        "    # printing all the contents of the zip file \n",
        "    zip.extractall('photos')\n",
        "    print('done')"
      ],
      "execution_count": 3,
      "outputs": [
        {
          "output_type": "stream",
          "text": [
            "done\n",
            "done\n"
          ],
          "name": "stdout"
        }
      ]
    },
    {
      "cell_type": "code",
      "metadata": {
        "id": "y69HOS3y0bbN"
      },
      "source": [
        "root = '/content/photos/'\n",
        "os.makedirs(root +'/train/case+')\n",
        "os.makedirs(root +'/train/case-')\n",
        "os.makedirs(root +'/val/case+')\n",
        "os.makedirs(root +'/val/case-')\n",
        "os.makedirs(root +'/test/case+')\n",
        "os.makedirs(root +'/test/case-')"
      ],
      "execution_count": null,
      "outputs": []
    },
    {
      "cell_type": "code",
      "metadata": {
        "id": "L9YozVgc5pq1",
        "outputId": "139daa5c-f0e3-45ae-e626-d8c89852d124",
        "colab": {
          "base_uri": "https://localhost:8080/",
          "height": 84
        }
      },
      "source": [
        "currentCls = '/case+'\n",
        "src = \"/content/photos/CT_COVID\" # Folder to copy images from\n",
        "\n",
        "allFileNames = os.listdir(src)\n",
        "np.random.shuffle(allFileNames)\n",
        "train_FileNames, val_FileNames, test_FileNames = np.split(np.array(allFileNames),\n",
        "                                                          [int(len(allFileNames)*0.7), int(len(allFileNames)*0.85)])\n",
        "train_FileNames = [src+'/'+ name for name in train_FileNames.tolist()]\n",
        "val_FileNames = [src+'/' + name for name in val_FileNames.tolist()]\n",
        "test_FileNames = [src+'/' + name for name in test_FileNames.tolist()]\n",
        "print('Total images: ', len(allFileNames))\n",
        "print('Training: ', len(train_FileNames))\n",
        "print('Validation: ', len(val_FileNames))\n",
        "print('Testing: ', len(test_FileNames))\n",
        "\n",
        "# Copy-pasting images\n",
        "for name in train_FileNames:\n",
        "    shutil.copy(name, \"/content/photos/train\"+currentCls)\n",
        "\n",
        "for name in val_FileNames:\n",
        "    shutil.copy(name, \"/content/photos/val\"+currentCls)\n",
        "\n",
        "for name in test_FileNames:\n",
        "    shutil.copy(name, \"/content/photos/test\"+currentCls)"
      ],
      "execution_count": null,
      "outputs": [
        {
          "output_type": "stream",
          "text": [
            "Total images:  349\n",
            "Training:  244\n",
            "Validation:  52\n",
            "Testing:  53\n"
          ],
          "name": "stdout"
        }
      ]
    },
    {
      "cell_type": "code",
      "metadata": {
        "id": "6KCx7T1XEePL",
        "outputId": "6a60dffc-90ae-4423-a318-70e0b948948f",
        "colab": {
          "base_uri": "https://localhost:8080/",
          "height": 84
        }
      },
      "source": [
        "currentCls = '/case-'\n",
        "src = \"/content/photos/CT_NonCOVID\" # Folder to copy images from\n",
        "\n",
        "torch.manual_seed(42)\n",
        "\n",
        "allFileNames = os.listdir(src)\n",
        "np.random.shuffle(allFileNames)\n",
        "train_FileNames, val_FileNames, test_FileNames = np.split(np.array(allFileNames),\n",
        "                                                          [int(len(allFileNames)*0.7), int(len(allFileNames)*0.85)])\n",
        "\n",
        "\n",
        "train_FileNames = [src+'/'+ name for name in train_FileNames.tolist()]\n",
        "val_FileNames = [src+'/' + name for name in val_FileNames.tolist()]\n",
        "test_FileNames = [src+'/' + name for name in test_FileNames.tolist()]\n",
        "\n",
        "print('Total images: ', len(allFileNames))\n",
        "print('Training: ', len(train_FileNames))\n",
        "print('Validation: ', len(val_FileNames))\n",
        "print('Testing: ', len(test_FileNames))\n",
        "\n",
        "# Copy-pasting images\n",
        "for name in train_FileNames:\n",
        "    shutil.copy(name, \"/content/photos/train\"+currentCls)\n",
        "\n",
        "for name in val_FileNames:\n",
        "    shutil.copy(name, \"/content/photos/val\"+currentCls)\n",
        "\n",
        "for name in test_FileNames:\n",
        "    shutil.copy(name, \"/content/photos/test\"+currentCls)"
      ],
      "execution_count": null,
      "outputs": [
        {
          "output_type": "stream",
          "text": [
            "Total images:  397\n",
            "Training:  277\n",
            "Validation:  60\n",
            "Testing:  60\n"
          ],
          "name": "stdout"
        }
      ]
    },
    {
      "cell_type": "code",
      "metadata": {
        "id": "h98R9ddH1dGX"
      },
      "source": [
        "train_transform=transforms.Compose([\n",
        "                              transforms.RandomRotation(10),\n",
        "                              transforms.RandomHorizontalFlip(),\n",
        "                              transforms.Resize(224),\n",
        "                              transforms.CenterCrop(224),\n",
        "                              transforms.ToTensor(),\n",
        "                              transforms.Normalize(mean=[0.485,0.456,0.406],std=[0.229,0.224,0.225])\n",
        "])\n",
        "test_transform=transforms.Compose([\n",
        "                                   transforms.Resize(224),\n",
        "                              transforms.CenterCrop(224),\n",
        "                              transforms.ToTensor(),\n",
        "                              transforms.Normalize(mean=[0.485,0.456,0.406],std=[0.229,0.224,0.225])\n",
        "])"
      ],
      "execution_count": null,
      "outputs": []
    },
    {
      "cell_type": "code",
      "metadata": {
        "id": "G3woLc_UIOpZ",
        "outputId": "c36cf739-6ff3-4650-9684-315a07a319dd",
        "colab": {
          "base_uri": "https://localhost:8080/",
          "height": 34
        }
      },
      "source": [
        "train_data=datasets.ImageFolder('/content/photos/train',transform=train_transform)\n",
        "test_data=datasets.ImageFolder('/content/photos/test',transform=test_transform)\n",
        "val_data=datasets.ImageFolder('/content/photos/val',transform=test_transform)\n",
        "class_name=train_data.classes\n",
        "class_name"
      ],
      "execution_count": null,
      "outputs": [
        {
          "output_type": "execute_result",
          "data": {
            "text/plain": [
              "['case+', 'case-']"
            ]
          },
          "metadata": {
            "tags": []
          },
          "execution_count": 10
        }
      ]
    },
    {
      "cell_type": "code",
      "metadata": {
        "id": "LfdmekLaaSSt",
        "outputId": "6bcaa35c-a4bf-49a4-8fcf-a7678c784715",
        "colab": {
          "base_uri": "https://localhost:8080/",
          "height": 34
        }
      },
      "source": [
        "len(test_data)"
      ],
      "execution_count": null,
      "outputs": [
        {
          "output_type": "execute_result",
          "data": {
            "text/plain": [
              "113"
            ]
          },
          "metadata": {
            "tags": []
          },
          "execution_count": 11
        }
      ]
    },
    {
      "cell_type": "code",
      "metadata": {
        "id": "CPACcdCRLxkx"
      },
      "source": [
        "train_loader=DataLoader(train_data,batch_size=40,shuffle=True)\n",
        "test_loader=DataLoader(test_data,batch_size=8)\n",
        "val_loader=DataLoader(val_data,batch_size=8)"
      ],
      "execution_count": null,
      "outputs": []
    },
    {
      "cell_type": "code",
      "metadata": {
        "id": "BrJ1mrqG4Ewh"
      },
      "source": [
        "seed=0\n",
        "torch.manual_seed(seed)\n",
        "if torch.cuda.is_available():\n",
        "  torch.cuda.manual_seed_all(seed)"
      ],
      "execution_count": null,
      "outputs": []
    },
    {
      "cell_type": "markdown",
      "metadata": {
        "id": "hHaAFA1kJcKL"
      },
      "source": [
        "## **Model Creation**"
      ]
    },
    {
      "cell_type": "code",
      "metadata": {
        "id": "iUjGB10T-Z7d",
        "outputId": "e38a71c3-a8a9-44de-8350-f5fefc3ddbdf",
        "colab": {
          "base_uri": "https://localhost:8080/",
          "height": 82,
          "referenced_widgets": [
            "dbaa76f12fda4a7196b5ecc4f87b446a",
            "75ea6fb5609e43e98a714fab9f268e2e",
            "37280c750ba94f66896f744cb24c42a0",
            "be5752a765fb4572a5fee6466ea1810d",
            "b5e12f3a04cb4fd7add71d71e3958a7e",
            "14f4cf60e0b64e1cb751bef0f261fb3d",
            "f582389754b642e6a00274ec0513a965",
            "bb824d81dc784bafa53d72bf5e4be21b"
          ]
        }
      },
      "source": [
        "model = models.vgg19(pretrained=True) # we will use a pretrained model and we are going to change only the last layer"
      ],
      "execution_count": null,
      "outputs": [
        {
          "output_type": "stream",
          "text": [
            "Downloading: \"https://download.pytorch.org/models/vgg19-dcbb9e9d.pth\" to /root/.cache/torch/hub/checkpoints/vgg19-dcbb9e9d.pth\n"
          ],
          "name": "stderr"
        },
        {
          "output_type": "display_data",
          "data": {
            "application/vnd.jupyter.widget-view+json": {
              "model_id": "dbaa76f12fda4a7196b5ecc4f87b446a",
              "version_minor": 0,
              "version_major": 2
            },
            "text/plain": [
              "HBox(children=(FloatProgress(value=0.0, max=574673361.0), HTML(value='')))"
            ]
          },
          "metadata": {
            "tags": []
          }
        },
        {
          "output_type": "stream",
          "text": [
            "\n"
          ],
          "name": "stdout"
        }
      ]
    },
    {
      "cell_type": "code",
      "metadata": {
        "id": "axalyx87ZNF5"
      },
      "source": [
        "for param in model.parameters():\n",
        "    param.requires_grad = False"
      ],
      "execution_count": null,
      "outputs": []
    },
    {
      "cell_type": "code",
      "metadata": {
        "id": "-vZBjjN4JvdW",
        "outputId": "2ee3efe1-ad97-44b9-984c-8630436c8820",
        "colab": {
          "base_uri": "https://localhost:8080/",
          "height": 655
        }
      },
      "source": [
        "for p in model.parameters():\n",
        "    print(p.numel())"
      ],
      "execution_count": null,
      "outputs": [
        {
          "output_type": "stream",
          "text": [
            "1728\n",
            "64\n",
            "36864\n",
            "64\n",
            "73728\n",
            "128\n",
            "147456\n",
            "128\n",
            "294912\n",
            "256\n",
            "589824\n",
            "256\n",
            "589824\n",
            "256\n",
            "589824\n",
            "256\n",
            "1179648\n",
            "512\n",
            "2359296\n",
            "512\n",
            "2359296\n",
            "512\n",
            "2359296\n",
            "512\n",
            "2359296\n",
            "512\n",
            "2359296\n",
            "512\n",
            "2359296\n",
            "512\n",
            "2359296\n",
            "512\n",
            "102760448\n",
            "4096\n",
            "16777216\n",
            "4096\n",
            "4096000\n",
            "1000\n"
          ],
          "name": "stdout"
        }
      ]
    },
    {
      "cell_type": "code",
      "metadata": {
        "id": "KUjO4Fe7Dv2t",
        "outputId": "2c581c19-9b6a-44e9-b279-6bc60a9b03ef",
        "colab": {
          "base_uri": "https://localhost:8080/",
          "height": 874
        }
      },
      "source": [
        "model"
      ],
      "execution_count": null,
      "outputs": [
        {
          "output_type": "execute_result",
          "data": {
            "text/plain": [
              "VGG(\n",
              "  (features): Sequential(\n",
              "    (0): Conv2d(3, 64, kernel_size=(3, 3), stride=(1, 1), padding=(1, 1))\n",
              "    (1): ReLU(inplace=True)\n",
              "    (2): Conv2d(64, 64, kernel_size=(3, 3), stride=(1, 1), padding=(1, 1))\n",
              "    (3): ReLU(inplace=True)\n",
              "    (4): MaxPool2d(kernel_size=2, stride=2, padding=0, dilation=1, ceil_mode=False)\n",
              "    (5): Conv2d(64, 128, kernel_size=(3, 3), stride=(1, 1), padding=(1, 1))\n",
              "    (6): ReLU(inplace=True)\n",
              "    (7): Conv2d(128, 128, kernel_size=(3, 3), stride=(1, 1), padding=(1, 1))\n",
              "    (8): ReLU(inplace=True)\n",
              "    (9): MaxPool2d(kernel_size=2, stride=2, padding=0, dilation=1, ceil_mode=False)\n",
              "    (10): Conv2d(128, 256, kernel_size=(3, 3), stride=(1, 1), padding=(1, 1))\n",
              "    (11): ReLU(inplace=True)\n",
              "    (12): Conv2d(256, 256, kernel_size=(3, 3), stride=(1, 1), padding=(1, 1))\n",
              "    (13): ReLU(inplace=True)\n",
              "    (14): Conv2d(256, 256, kernel_size=(3, 3), stride=(1, 1), padding=(1, 1))\n",
              "    (15): ReLU(inplace=True)\n",
              "    (16): Conv2d(256, 256, kernel_size=(3, 3), stride=(1, 1), padding=(1, 1))\n",
              "    (17): ReLU(inplace=True)\n",
              "    (18): MaxPool2d(kernel_size=2, stride=2, padding=0, dilation=1, ceil_mode=False)\n",
              "    (19): Conv2d(256, 512, kernel_size=(3, 3), stride=(1, 1), padding=(1, 1))\n",
              "    (20): ReLU(inplace=True)\n",
              "    (21): Conv2d(512, 512, kernel_size=(3, 3), stride=(1, 1), padding=(1, 1))\n",
              "    (22): ReLU(inplace=True)\n",
              "    (23): Conv2d(512, 512, kernel_size=(3, 3), stride=(1, 1), padding=(1, 1))\n",
              "    (24): ReLU(inplace=True)\n",
              "    (25): Conv2d(512, 512, kernel_size=(3, 3), stride=(1, 1), padding=(1, 1))\n",
              "    (26): ReLU(inplace=True)\n",
              "    (27): MaxPool2d(kernel_size=2, stride=2, padding=0, dilation=1, ceil_mode=False)\n",
              "    (28): Conv2d(512, 512, kernel_size=(3, 3), stride=(1, 1), padding=(1, 1))\n",
              "    (29): ReLU(inplace=True)\n",
              "    (30): Conv2d(512, 512, kernel_size=(3, 3), stride=(1, 1), padding=(1, 1))\n",
              "    (31): ReLU(inplace=True)\n",
              "    (32): Conv2d(512, 512, kernel_size=(3, 3), stride=(1, 1), padding=(1, 1))\n",
              "    (33): ReLU(inplace=True)\n",
              "    (34): Conv2d(512, 512, kernel_size=(3, 3), stride=(1, 1), padding=(1, 1))\n",
              "    (35): ReLU(inplace=True)\n",
              "    (36): MaxPool2d(kernel_size=2, stride=2, padding=0, dilation=1, ceil_mode=False)\n",
              "  )\n",
              "  (avgpool): AdaptiveAvgPool2d(output_size=(7, 7))\n",
              "  (classifier): Sequential(\n",
              "    (0): Linear(in_features=25088, out_features=4096, bias=True)\n",
              "    (1): ReLU(inplace=True)\n",
              "    (2): Dropout(p=0.5, inplace=False)\n",
              "    (3): Linear(in_features=4096, out_features=4096, bias=True)\n",
              "    (4): ReLU(inplace=True)\n",
              "    (5): Dropout(p=0.5, inplace=False)\n",
              "    (6): Linear(in_features=4096, out_features=1000, bias=True)\n",
              "  )\n",
              ")"
            ]
          },
          "metadata": {
            "tags": []
          },
          "execution_count": 18
        }
      ]
    },
    {
      "cell_type": "code",
      "metadata": {
        "id": "32__LAeGJ7Cy"
      },
      "source": [
        "from collections import OrderedDict\n",
        "\n",
        "model.classifier = nn.Sequential(OrderedDict([\n",
        "                                            #('fcl1', nn.Linear(2048,256)),\n",
        "                                           #('dp1', nn.Dropout(0.5)),\n",
        "                                           #('r1', nn.ReLU()),\n",
        "                                           ('fcl1', nn.Linear(25088,256)),\n",
        "                                           ('dp1', nn.Dropout(0.5)),\n",
        "                                           ('r', nn.ReLU()),\n",
        "                                            ('fcl2', nn.Linear(256,2))\n",
        "                                           #('out', nn.LogSoftmax(dim=1)),\n",
        "]))"
      ],
      "execution_count": null,
      "outputs": []
    },
    {
      "cell_type": "code",
      "metadata": {
        "id": "_WdGJSCRLY4D",
        "outputId": "e66a82f0-8ccb-4569-9bea-7a3ff0d75a9d",
        "colab": {
          "base_uri": "https://localhost:8080/",
          "height": 823
        }
      },
      "source": [
        "model"
      ],
      "execution_count": null,
      "outputs": [
        {
          "output_type": "execute_result",
          "data": {
            "text/plain": [
              "VGG(\n",
              "  (features): Sequential(\n",
              "    (0): Conv2d(3, 64, kernel_size=(3, 3), stride=(1, 1), padding=(1, 1))\n",
              "    (1): ReLU(inplace=True)\n",
              "    (2): Conv2d(64, 64, kernel_size=(3, 3), stride=(1, 1), padding=(1, 1))\n",
              "    (3): ReLU(inplace=True)\n",
              "    (4): MaxPool2d(kernel_size=2, stride=2, padding=0, dilation=1, ceil_mode=False)\n",
              "    (5): Conv2d(64, 128, kernel_size=(3, 3), stride=(1, 1), padding=(1, 1))\n",
              "    (6): ReLU(inplace=True)\n",
              "    (7): Conv2d(128, 128, kernel_size=(3, 3), stride=(1, 1), padding=(1, 1))\n",
              "    (8): ReLU(inplace=True)\n",
              "    (9): MaxPool2d(kernel_size=2, stride=2, padding=0, dilation=1, ceil_mode=False)\n",
              "    (10): Conv2d(128, 256, kernel_size=(3, 3), stride=(1, 1), padding=(1, 1))\n",
              "    (11): ReLU(inplace=True)\n",
              "    (12): Conv2d(256, 256, kernel_size=(3, 3), stride=(1, 1), padding=(1, 1))\n",
              "    (13): ReLU(inplace=True)\n",
              "    (14): Conv2d(256, 256, kernel_size=(3, 3), stride=(1, 1), padding=(1, 1))\n",
              "    (15): ReLU(inplace=True)\n",
              "    (16): Conv2d(256, 256, kernel_size=(3, 3), stride=(1, 1), padding=(1, 1))\n",
              "    (17): ReLU(inplace=True)\n",
              "    (18): MaxPool2d(kernel_size=2, stride=2, padding=0, dilation=1, ceil_mode=False)\n",
              "    (19): Conv2d(256, 512, kernel_size=(3, 3), stride=(1, 1), padding=(1, 1))\n",
              "    (20): ReLU(inplace=True)\n",
              "    (21): Conv2d(512, 512, kernel_size=(3, 3), stride=(1, 1), padding=(1, 1))\n",
              "    (22): ReLU(inplace=True)\n",
              "    (23): Conv2d(512, 512, kernel_size=(3, 3), stride=(1, 1), padding=(1, 1))\n",
              "    (24): ReLU(inplace=True)\n",
              "    (25): Conv2d(512, 512, kernel_size=(3, 3), stride=(1, 1), padding=(1, 1))\n",
              "    (26): ReLU(inplace=True)\n",
              "    (27): MaxPool2d(kernel_size=2, stride=2, padding=0, dilation=1, ceil_mode=False)\n",
              "    (28): Conv2d(512, 512, kernel_size=(3, 3), stride=(1, 1), padding=(1, 1))\n",
              "    (29): ReLU(inplace=True)\n",
              "    (30): Conv2d(512, 512, kernel_size=(3, 3), stride=(1, 1), padding=(1, 1))\n",
              "    (31): ReLU(inplace=True)\n",
              "    (32): Conv2d(512, 512, kernel_size=(3, 3), stride=(1, 1), padding=(1, 1))\n",
              "    (33): ReLU(inplace=True)\n",
              "    (34): Conv2d(512, 512, kernel_size=(3, 3), stride=(1, 1), padding=(1, 1))\n",
              "    (35): ReLU(inplace=True)\n",
              "    (36): MaxPool2d(kernel_size=2, stride=2, padding=0, dilation=1, ceil_mode=False)\n",
              "  )\n",
              "  (avgpool): AdaptiveAvgPool2d(output_size=(7, 7))\n",
              "  (classifier): Sequential(\n",
              "    (fcl1): Linear(in_features=25088, out_features=256, bias=True)\n",
              "    (dp1): Dropout(p=0.5, inplace=False)\n",
              "    (r): ReLU()\n",
              "    (fcl2): Linear(in_features=256, out_features=2, bias=True)\n",
              "  )\n",
              ")"
            ]
          },
          "metadata": {
            "tags": []
          },
          "execution_count": 20
        }
      ]
    },
    {
      "cell_type": "code",
      "metadata": {
        "id": "TrWkd5nhPzfN"
      },
      "source": [
        "model=model.cuda()"
      ],
      "execution_count": null,
      "outputs": []
    },
    {
      "cell_type": "code",
      "metadata": {
        "id": "PWAMpTixMoAc"
      },
      "source": [
        "'''criterion = nn.NLLLoss()\n",
        "optimizer = torch.optim.Adadelta(model.parameters())'''\n",
        "criterion=nn.CrossEntropyLoss()\n",
        "optimizer=torch.optim.Adam(model.classifier.parameters(),lr=0.001)"
      ],
      "execution_count": null,
      "outputs": []
    },
    {
      "cell_type": "markdown",
      "metadata": {
        "id": "sqpoejSNNNZg"
      },
      "source": [
        "## **Training model**"
      ]
    },
    {
      "cell_type": "code",
      "metadata": {
        "id": "g8cCnlK4Lx2f",
        "outputId": "b111ea1d-8948-4852-bd56-137ef315eb43",
        "colab": {
          "base_uri": "https://localhost:8080/",
          "height": 1000
        }
      },
      "source": [
        "import time\n",
        "start_time=time.time()\n",
        "\n",
        "epochs=60\n",
        "train_losses=[]\n",
        "train_correct=[]\n",
        "trn_per=[]\n",
        "val_per=[]\n",
        "y_pred=[]\n",
        "y_true=[]\n",
        "val_correct=[]\n",
        "val_losses=[]\n",
        "for i in range(epochs):\n",
        "  trn_corr=0\n",
        "  for b,(x_train,y_train) in enumerate(train_loader):\n",
        "    #optional limit number of batches\n",
        "    if torch.cuda.is_available():\n",
        "       x_train, y_train = x_train.cuda(), y_train.cuda()\n",
        "    b+=1\n",
        "    y_pred=model(x_train)\n",
        "    loss=criterion(y_pred,y_train)\n",
        "    \n",
        "    #Tally the number of correct prediction\n",
        "    predicted=torch.max(y_pred.data,1)[1]\n",
        "    batch_corr=(predicted==y_train).sum()\n",
        "    trn_corr+=batch_corr\n",
        "    optimizer.zero_grad()\n",
        "    loss.backward()\n",
        "    optimizer.step()\n",
        "    #print updates\n",
        "    if b%13 == 0:\n",
        "      print(f'Epoch {i:2} batch:{b:4} [{40*b:6}/521] Loss: {loss.item():10.8f}  accuracy: {trn_corr.item()*100/(40*b):7.3f}%')\n",
        "  train_losses.append(loss)\n",
        "  total_per=trn_corr.item()/521*100\n",
        "  train_correct.append(total_per)\n",
        "\n",
        "  with torch.no_grad():\n",
        "    val_corr=0\n",
        "    for b,(x_valid,y_valid) in enumerate(val_loader):\n",
        "      #Optional\n",
        "      if torch.cuda.is_available():\n",
        "         x_valid, y_valid = x_valid.cuda(), y_valid.cuda()\n",
        "      '''if b==max_tst_batch:\n",
        "        break'''\n",
        "      b=b+1  \n",
        "      y_val =model(x_valid)\n",
        "      loss=criterion(y_val,y_valid)\n",
        "      predicted=torch.max(y_val.data,1)[1]\n",
        "      batch_corr=(predicted==y_valid).sum()\n",
        "      val_corr+=batch_corr\n",
        "      if b%14==0:\n",
        "        print(f'Loss: {loss.item():10.8f} , accuracy: {val_corr.item()/(b*8)*100:7.3f}%')\n",
        "    val_losses.append(loss)\n",
        "    total_per=val_corr.item()/112*100\n",
        "    val_correct.append(total_per)\n",
        "total_time=time.time() - start_time\n",
        "print(f'Total time: {total_time/60} minutes')"
      ],
      "execution_count": null,
      "outputs": [
        {
          "output_type": "stream",
          "text": [
            "Epoch  0 batch:  13 [   520/521] Loss: 1.29599166  accuracy:  56.923%\n",
            "Loss: 0.27671823 , accuracy:   6.250%\n",
            "Epoch  1 batch:  13 [   520/521] Loss: 0.72095382  accuracy:  69.615%\n",
            "Loss: 0.03928826 , accuracy:   7.143%\n",
            "Epoch  2 batch:  13 [   520/521] Loss: 0.53942126  accuracy:  75.192%\n",
            "Loss: 0.24452782 , accuracy:   5.357%\n",
            "Epoch  3 batch:  13 [   520/521] Loss: 0.33938235  accuracy:  80.962%\n",
            "Loss: 0.56801575 , accuracy:   5.357%\n",
            "Epoch  4 batch:  13 [   520/521] Loss: 0.34266770  accuracy:  84.231%\n",
            "Loss: 0.70734692 , accuracy:   5.357%\n",
            "Epoch  5 batch:  13 [   520/521] Loss: 0.53865057  accuracy:  84.615%\n",
            "Loss: 0.70035011 , accuracy:   4.464%\n",
            "Epoch  6 batch:  13 [   520/521] Loss: 0.23784046  accuracy:  84.615%\n",
            "Loss: 0.42313623 , accuracy:   5.357%\n",
            "Epoch  7 batch:  13 [   520/521] Loss: 0.32215202  accuracy:  88.462%\n",
            "Loss: 0.78671974 , accuracy:   5.357%\n",
            "Epoch  8 batch:  13 [   520/521] Loss: 0.18462655  accuracy:  88.462%\n",
            "Loss: 0.39063123 , accuracy:   5.357%\n",
            "Epoch  9 batch:  13 [   520/521] Loss: 0.24536440  accuracy:  89.038%\n",
            "Loss: 0.11425335 , accuracy:   6.250%\n",
            "Epoch 10 batch:  13 [   520/521] Loss: 0.13258049  accuracy:  93.077%\n",
            "Loss: 0.34142500 , accuracy:   5.357%\n",
            "Epoch 11 batch:  13 [   520/521] Loss: 0.12232200  accuracy:  90.577%\n",
            "Loss: 0.46885994 , accuracy:   5.357%\n",
            "Epoch 12 batch:  13 [   520/521] Loss: 0.17243990  accuracy:  92.115%\n",
            "Loss: 0.37944639 , accuracy:   5.357%\n",
            "Epoch 13 batch:  13 [   520/521] Loss: 0.25710931  accuracy:  93.462%\n",
            "Loss: 0.40827557 , accuracy:   6.250%\n",
            "Epoch 14 batch:  13 [   520/521] Loss: 0.12054640  accuracy:  93.462%\n",
            "Loss: 0.76736104 , accuracy:   5.357%\n",
            "Epoch 15 batch:  13 [   520/521] Loss: 0.10379569  accuracy:  96.154%\n",
            "Loss: 1.02667546 , accuracy:   5.357%\n",
            "Epoch 16 batch:  13 [   520/521] Loss: 0.08395518  accuracy:  95.769%\n",
            "Loss: 0.87792128 , accuracy:   5.357%\n",
            "Epoch 17 batch:  13 [   520/521] Loss: 0.02594380  accuracy:  97.115%\n",
            "Loss: 1.23036885 , accuracy:   5.357%\n",
            "Epoch 18 batch:  13 [   520/521] Loss: 0.05679439  accuracy:  98.654%\n",
            "Loss: 0.57083297 , accuracy:   5.357%\n",
            "Epoch 19 batch:  13 [   520/521] Loss: 0.04116292  accuracy:  97.115%\n",
            "Loss: 1.00382650 , accuracy:   4.464%\n",
            "Epoch 20 batch:  13 [   520/521] Loss: 0.06208719  accuracy:  98.269%\n",
            "Loss: 0.63954896 , accuracy:   5.357%\n",
            "Epoch 21 batch:  13 [   520/521] Loss: 0.16168913  accuracy:  96.923%\n",
            "Loss: 1.14385355 , accuracy:   5.357%\n",
            "Epoch 22 batch:  13 [   520/521] Loss: 0.01059272  accuracy:  97.308%\n",
            "Loss: 1.24458408 , accuracy:   5.357%\n",
            "Epoch 23 batch:  13 [   520/521] Loss: 0.02968422  accuracy:  97.692%\n",
            "Loss: 0.36111343 , accuracy:   5.357%\n",
            "Epoch 24 batch:  13 [   520/521] Loss: 0.02341871  accuracy:  96.731%\n",
            "Loss: 0.28897947 , accuracy:   6.250%\n",
            "Epoch 25 batch:  13 [   520/521] Loss: 0.02955432  accuracy:  97.885%\n",
            "Loss: 0.45751140 , accuracy:   6.250%\n",
            "Epoch 26 batch:  13 [   520/521] Loss: 0.06719179  accuracy:  97.885%\n",
            "Loss: 0.76566178 , accuracy:   5.357%\n",
            "Epoch 27 batch:  13 [   520/521] Loss: 0.12047104  accuracy:  97.500%\n",
            "Loss: 0.82928312 , accuracy:   5.357%\n",
            "Epoch 28 batch:  13 [   520/521] Loss: 0.03366058  accuracy:  98.654%\n",
            "Loss: 0.53023398 , accuracy:   5.357%\n",
            "Epoch 29 batch:  13 [   520/521] Loss: 0.00586730  accuracy:  98.269%\n",
            "Loss: 0.96303004 , accuracy:   5.357%\n",
            "Epoch 30 batch:  13 [   520/521] Loss: 0.05390887  accuracy:  99.231%\n",
            "Loss: 0.64942664 , accuracy:   6.250%\n",
            "Epoch 31 batch:  13 [   520/521] Loss: 0.04675105  accuracy:  98.077%\n",
            "Loss: 1.07934952 , accuracy:   5.357%\n",
            "Epoch 32 batch:  13 [   520/521] Loss: 0.18296410  accuracy:  96.154%\n",
            "Loss: 0.55919468 , accuracy:   6.250%\n",
            "Epoch 33 batch:  13 [   520/521] Loss: 0.03468915  accuracy:  97.692%\n",
            "Loss: 0.85932696 , accuracy:   6.250%\n",
            "Epoch 34 batch:  13 [   520/521] Loss: 0.01676563  accuracy:  98.462%\n",
            "Loss: 2.53434896 , accuracy:   5.357%\n",
            "Epoch 35 batch:  13 [   520/521] Loss: 0.27684543  accuracy:  95.192%\n",
            "Loss: 1.45499754 , accuracy:   4.464%\n",
            "Epoch 36 batch:  13 [   520/521] Loss: 0.06107168  accuracy:  96.154%\n",
            "Loss: 1.34981823 , accuracy:   5.357%\n",
            "Epoch 37 batch:  13 [   520/521] Loss: 0.05226610  accuracy:  97.308%\n",
            "Loss: 0.74411911 , accuracy:   5.357%\n",
            "Epoch 38 batch:  13 [   520/521] Loss: 0.01461933  accuracy:  97.885%\n",
            "Loss: 1.19115496 , accuracy:   3.571%\n",
            "Epoch 39 batch:  13 [   520/521] Loss: 0.07307421  accuracy:  93.077%\n",
            "Loss: 1.13424504 , accuracy:   5.357%\n",
            "Epoch 40 batch:  13 [   520/521] Loss: 0.04502230  accuracy:  93.846%\n",
            "Loss: 1.82820439 , accuracy:   4.464%\n",
            "Epoch 41 batch:  13 [   520/521] Loss: 0.04668278  accuracy:  97.885%\n",
            "Loss: 1.66811132 , accuracy:   4.464%\n",
            "Epoch 42 batch:  13 [   520/521] Loss: 0.03258923  accuracy:  98.269%\n",
            "Loss: 0.71132505 , accuracy:   5.357%\n",
            "Epoch 43 batch:  13 [   520/521] Loss: 0.07916274  accuracy:  97.885%\n",
            "Loss: 1.68917620 , accuracy:   5.357%\n",
            "Epoch 44 batch:  13 [   520/521] Loss: 0.02409998  accuracy:  97.692%\n",
            "Loss: 0.46760309 , accuracy:   5.357%\n",
            "Epoch 45 batch:  13 [   520/521] Loss: 0.01978889  accuracy:  97.500%\n",
            "Loss: 0.47895509 , accuracy:   5.357%\n",
            "Epoch 46 batch:  13 [   520/521] Loss: 0.01645332  accuracy:  97.885%\n",
            "Loss: 0.93881869 , accuracy:   5.357%\n",
            "Epoch 47 batch:  13 [   520/521] Loss: 0.00950501  accuracy:  98.077%\n",
            "Loss: 0.70379478 , accuracy:   5.357%\n",
            "Epoch 48 batch:  13 [   520/521] Loss: 0.01618217  accuracy:  98.654%\n",
            "Loss: 0.74397498 , accuracy:   6.250%\n",
            "Epoch 49 batch:  13 [   520/521] Loss: 0.03639649  accuracy:  98.654%\n",
            "Loss: 1.45369446 , accuracy:   5.357%\n",
            "Epoch 50 batch:  13 [   520/521] Loss: 0.00941654  accuracy:  98.462%\n",
            "Loss: 0.38708481 , accuracy:   5.357%\n",
            "Epoch 51 batch:  13 [   520/521] Loss: 0.03105124  accuracy:  98.462%\n",
            "Loss: 0.45012623 , accuracy:   5.357%\n",
            "Epoch 52 batch:  13 [   520/521] Loss: 0.04751944  accuracy:  98.846%\n",
            "Loss: 0.77939188 , accuracy:   6.250%\n",
            "Epoch 53 batch:  13 [   520/521] Loss: 0.00479152  accuracy:  99.231%\n",
            "Loss: 0.08175891 , accuracy:   7.143%\n",
            "Epoch 54 batch:  13 [   520/521] Loss: 0.11906102  accuracy:  98.077%\n",
            "Loss: 2.05133128 , accuracy:   5.357%\n",
            "Epoch 55 batch:  13 [   520/521] Loss: 0.01448452  accuracy:  96.923%\n",
            "Loss: 0.81927222 , accuracy:   5.357%\n",
            "Epoch 56 batch:  13 [   520/521] Loss: 0.03359174  accuracy:  98.462%\n",
            "Loss: 1.21976566 , accuracy:   5.357%\n",
            "Epoch 57 batch:  13 [   520/521] Loss: 0.12506463  accuracy:  97.885%\n",
            "Loss: 0.84767675 , accuracy:   5.357%\n",
            "Epoch 58 batch:  13 [   520/521] Loss: 0.04117668  accuracy:  99.038%\n",
            "Loss: 0.75753784 , accuracy:   4.464%\n",
            "Epoch 59 batch:  13 [   520/521] Loss: 0.03621221  accuracy:  97.500%\n",
            "Loss: 1.66281414 , accuracy:   3.571%\n",
            "Total time: 13.268443934122722 minutes\n"
          ],
          "name": "stdout"
        }
      ]
    },
    {
      "cell_type": "markdown",
      "metadata": {
        "id": "Q7SRSo3fzJzn"
      },
      "source": [
        "### **Test set**"
      ]
    },
    {
      "cell_type": "code",
      "metadata": {
        "id": "jty2ore2OpsK",
        "outputId": "afac781b-33f7-4281-ec35-25fe59ed737e",
        "colab": {
          "base_uri": "https://localhost:8080/",
          "height": 298
        }
      },
      "source": [
        "plt.plot(train_losses,label='Training Loss')\n",
        "plt.plot(val_losses,label='Test loss')\n",
        "#plt.plot(val_losses,label='validation loss')\n",
        "plt.title('loss at epocs')\n",
        "plt.legend()"
      ],
      "execution_count": null,
      "outputs": [
        {
          "output_type": "execute_result",
          "data": {
            "text/plain": [
              "<matplotlib.legend.Legend at 0x7fe710600828>"
            ]
          },
          "metadata": {
            "tags": []
          },
          "execution_count": 24
        },
        {
          "output_type": "display_data",
          "data": {
            "image/png": "[encoded data removed]",
            "text/plain": [
              "<Figure size 432x288 with 1 Axes>"
            ]
          },
          "metadata": {
            "tags": [],
            "needs_background": "light"
          }
        }
      ]
    },
    {
      "cell_type": "code",
      "metadata": {
        "id": "3jsHRP0aiyst",
        "outputId": "9c51f12a-5d7c-47a7-b34d-7795bf52dfb3",
        "colab": {
          "base_uri": "https://localhost:8080/",
          "height": 282
        }
      },
      "source": [
        "plt.plot(train_correct,label='Training acc')\n",
        "plt.plot(val_correct,label='Test acc')\n",
        "#plt.plot(val_correct,label='val acc')\n",
        "plt.legend()"
      ],
      "execution_count": null,
      "outputs": [
        {
          "output_type": "execute_result",
          "data": {
            "text/plain": [
              "<matplotlib.legend.Legend at 0x7fe7100ee438>"
            ]
          },
          "metadata": {
            "tags": []
          },
          "execution_count": 25
        },
        {
          "output_type": "display_data",
          "data": {
            "image/png": "[encoded data removed]",
            "text/plain": [
              "<Figure size 432x288 with 1 Axes>"
            ]
          },
          "metadata": {
            "tags": [],
            "needs_background": "light"
          }
        }
      ]
    },
    {
      "cell_type": "code",
      "metadata": {
        "id": "5YCFs8lCmLR6"
      },
      "source": [
        "from sklearn.metrics import confusion_matrix\n",
        "from sklearn.metrics import classification_report\n",
        "from sklearn.metrics import accuracy_score\n",
        "from sklearn.metrics import roc_auc_score\n",
        "from sklearn.metrics import roc_curve\n",
        "from sklearn.model_selection import cross_val_score"
      ],
      "execution_count": null,
      "outputs": []
    },
    {
      "cell_type": "code",
      "metadata": {
        "id": "CHq4_JkFzEo2",
        "outputId": "1d29b00d-674f-4ccc-c2ee-4952e85e583b",
        "colab": {
          "base_uri": "https://localhost:8080/",
          "height": 34
        }
      },
      "source": [
        "#Test set\n",
        "y_tst_pred=[]\n",
        "y_tst_true=[]\n",
        "test_losses=[]\n",
        "test_correct=[]\n",
        "with torch.no_grad():\n",
        "    tst_corr=0\n",
        "    for b,(x_test,y_test) in enumerate(test_loader):\n",
        "      #Optional\n",
        "      if torch.cuda.is_available():\n",
        "         x_test,y_test = x_test.cuda(), y_test.cuda()\n",
        "      '''if b==max_tst_batch:\n",
        "        break'''\n",
        "      b=b+1\n",
        "      y_val =model(x_test)\n",
        "      loss=criterion(y_val,y_test)\n",
        "      predicted=torch.max(y_val.data,1)[1]\n",
        "      tst_corr+=(predicted==y_test).sum()\n",
        "      y_tst_pred.append(predicted.cpu().numpy())\n",
        "      y_tst_true.append(y_test.cpu().numpy())\n",
        "      if b%14==0:\n",
        "        print(f'Loss: {loss.item():10.8f} , accuracy: {tst_corr.item()/(8*b)*100:7.3f}%')\n",
        "    test_losses.append(loss)\n",
        "    test_correct.append(tst_corr)"
      ],
      "execution_count": null,
      "outputs": [
        {
          "output_type": "stream",
          "text": [
            "Loss: 0.44241109 , accuracy:  82.143%\n"
          ],
          "name": "stdout"
        }
      ]
    },
    {
      "cell_type": "code",
      "metadata": {
        "id": "RSChR8Se3aND",
        "outputId": "f446830a-3e95-47cf-8a4a-ac8e3b299f55",
        "colab": {
          "base_uri": "https://localhost:8080/",
          "height": 269
        }
      },
      "source": [
        "y_tst_pred"
      ],
      "execution_count": null,
      "outputs": [
        {
          "output_type": "execute_result",
          "data": {
            "text/plain": [
              "[array([0, 0, 0, 0, 0, 0, 0, 0]),\n",
              " array([0, 0, 0, 0, 0, 0, 0, 0]),\n",
              " array([0, 0, 0, 0, 0, 1, 0, 1]),\n",
              " array([0, 0, 0, 0, 0, 0, 0, 0]),\n",
              " array([0, 0, 0, 1, 0, 0, 0, 0]),\n",
              " array([0, 0, 0, 0, 1, 0, 0, 0]),\n",
              " array([1, 0, 0, 0, 0, 0, 1, 1]),\n",
              " array([0, 1, 1, 1, 1, 1, 1, 1]),\n",
              " array([0, 1, 1, 1, 1, 1, 0, 1]),\n",
              " array([0, 1, 1, 1, 1, 1, 1, 0]),\n",
              " array([0, 0, 0, 0, 1, 1, 0, 1]),\n",
              " array([1, 1, 0, 1, 1, 1, 1, 1]),\n",
              " array([1, 1, 1, 1, 1, 1, 0, 1]),\n",
              " array([0, 1, 1, 1, 1, 0, 1, 1]),\n",
              " array([0])]"
            ]
          },
          "metadata": {
            "tags": []
          },
          "execution_count": 28
        }
      ]
    },
    {
      "cell_type": "code",
      "metadata": {
        "id": "r1h1FgFa2J5n",
        "outputId": "8c54cd60-1eed-482d-80cd-0cff98e82e01",
        "colab": {
          "base_uri": "https://localhost:8080/",
          "height": 118
        }
      },
      "source": [
        "y_tst_pred=np.array(y_tst_pred)\n",
        "#x_pred=x_pred.reshape(1,-1)\n",
        "y_tst_pred=np.hstack(y_tst_pred).tolist()\n",
        "y_tst_pred=np.array(y_tst_pred)\n",
        "#sns_test_pred=sns_test_pred.astype(int)\n",
        "y_tst_true=np.array(y_tst_true)\n",
        "#x_true=x_true.reshape(1,-1)\n",
        "y_tst_true=np.hstack(y_tst_true).tolist()\n",
        "y_tst_true=np.array(y_tst_true)\n",
        "\n",
        "#sns_test_y=sns_test_y.astype(int)\n",
        "y_tst_pred"
      ],
      "execution_count": null,
      "outputs": [
        {
          "output_type": "execute_result",
          "data": {
            "text/plain": [
              "array([0, 0, 0, 0, 0, 0, 0, 0, 0, 0, 0, 0, 0, 0, 0, 0, 0, 0, 0, 0, 0, 1,\n",
              "       0, 1, 0, 0, 0, 0, 0, 0, 0, 0, 0, 0, 0, 1, 0, 0, 0, 0, 0, 0, 0, 0,\n",
              "       1, 0, 0, 0, 1, 0, 0, 0, 0, 0, 1, 1, 0, 1, 1, 1, 1, 1, 1, 1, 0, 1,\n",
              "       1, 1, 1, 1, 0, 1, 0, 1, 1, 1, 1, 1, 1, 0, 0, 0, 0, 0, 1, 1, 0, 1,\n",
              "       1, 1, 0, 1, 1, 1, 1, 1, 1, 1, 1, 1, 1, 1, 0, 1, 0, 1, 1, 1, 1, 0,\n",
              "       1, 1, 0])"
            ]
          },
          "metadata": {
            "tags": []
          },
          "execution_count": 29
        }
      ]
    },
    {
      "cell_type": "code",
      "metadata": {
        "id": "dx2jd2X-358G",
        "outputId": "6b708cbe-9af6-4fc4-f6e1-1737d3da05ec",
        "colab": {
          "base_uri": "https://localhost:8080/",
          "height": 118
        }
      },
      "source": [
        "y_tst_true"
      ],
      "execution_count": null,
      "outputs": [
        {
          "output_type": "execute_result",
          "data": {
            "text/plain": [
              "array([0, 0, 0, 0, 0, 0, 0, 0, 0, 0, 0, 0, 0, 0, 0, 0, 0, 0, 0, 0, 0, 0,\n",
              "       0, 0, 0, 0, 0, 0, 0, 0, 0, 0, 0, 0, 0, 0, 0, 0, 0, 0, 0, 0, 0, 0,\n",
              "       0, 0, 0, 0, 0, 0, 0, 0, 0, 1, 1, 1, 1, 1, 1, 1, 1, 1, 1, 1, 1, 1,\n",
              "       1, 1, 1, 1, 1, 1, 1, 1, 1, 1, 1, 1, 1, 1, 1, 1, 1, 1, 1, 1, 1, 1,\n",
              "       1, 1, 1, 1, 1, 1, 1, 1, 1, 1, 1, 1, 1, 1, 1, 1, 1, 1, 1, 1, 1, 1,\n",
              "       1, 1, 1])"
            ]
          },
          "metadata": {
            "tags": []
          },
          "execution_count": 30
        }
      ]
    },
    {
      "cell_type": "markdown",
      "metadata": {
        "id": "T4DX3m2e4JCC"
      },
      "source": [
        "**sensitivity = recall = tp / t = tp / (tp + fn),\n",
        "specificity = tn / n = tn / (tn + fp),\n",
        "precision = tp / p = tp / (tp + fp),\n",
        "F1 Score=**"
      ]
    },
    {
      "cell_type": "code",
      "metadata": {
        "id": "1aSFBItw2oKM",
        "outputId": "cbe3c69d-52ae-4c5f-9826-2d30c539c13b",
        "colab": {
          "base_uri": "https://localhost:8080/",
          "height": 269
        }
      },
      "source": [
        "print(\"Accuracy score: \\n\",accuracy_score(y_tst_true,y_tst_pred))\n",
        "print(\"Confusion Matrix: \\n\",confusion_matrix(y_tst_true,y_tst_pred))\n",
        "print(\"Classification report: \\n\",classification_report(y_tst_true,y_tst_pred))"
      ],
      "execution_count": null,
      "outputs": [
        {
          "output_type": "stream",
          "text": [
            "Accuracy score: \n",
            " 0.8141592920353983\n",
            "Confusion Matrix: \n",
            " [[48  5]\n",
            " [16 44]]\n",
            "Classification report: \n",
            "               precision    recall  f1-score   support\n",
            "\n",
            "           0       0.75      0.91      0.82        53\n",
            "           1       0.90      0.73      0.81        60\n",
            "\n",
            "    accuracy                           0.81       113\n",
            "   macro avg       0.82      0.82      0.81       113\n",
            "weighted avg       0.83      0.81      0.81       113\n",
            "\n"
          ],
          "name": "stdout"
        }
      ]
    },
    {
      "cell_type": "code",
      "metadata": {
        "id": "GRLwAUqSb-HL"
      },
      "source": [
        "fpr,tpr,thresholds=roc_curve(y_tst_true,y_tst_pred)\n",
        "plt.plot(fpr,tpr,color='green')"
      ],
      "execution_count": null,
      "outputs": []
    },
    {
      "cell_type": "code",
      "metadata": {
        "id": "IpezitEq3k8m"
      },
      "source": [
        "roc_auc_score(y_true,y_pred)"
      ],
      "execution_count": null,
      "outputs": []
    },
    {
      "cell_type": "code",
      "metadata": {
        "id": "6gXy0no4f6TG"
      },
      "source": [
        "torch.save(model.state_dict(),'COVID-19(80-85).pt')"
      ],
      "execution_count": null,
      "outputs": []
    },
    {
      "cell_type": "code",
      "metadata": {
        "id": "SLn2pkh9PXqa"
      },
      "source": [
        "'''from google.colab import files\n",
        "uploaded=files.upload()'''"
      ],
      "execution_count": null,
      "outputs": []
    },
    {
      "cell_type": "code",
      "metadata": {
        "id": "bteBTx79YWNk"
      },
      "source": [
        "'''im=plt.imread('carona19.jpg')\n",
        "image=Image.open('carona19.jpg').convert('RGB')\n",
        "x=test_transform(image)\n",
        "x=x.unsqueeze(0)\n",
        "x=x.cuda()'''"
      ],
      "execution_count": null,
      "outputs": []
    },
    {
      "cell_type": "code",
      "metadata": {
        "id": "dg9Zi62UZKJK"
      },
      "source": [
        ""
      ],
      "execution_count": null,
      "outputs": []
    }
  ]
}